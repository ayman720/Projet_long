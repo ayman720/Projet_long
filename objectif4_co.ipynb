{
 "cells": [
  {
   "cell_type": "code",
   "execution_count": 1,
   "metadata": {},
   "outputs": [],
   "source": [
    "import pandas as pd\n",
    "from sklearn.cluster import KMeans\n",
    "import matplotlib.pyplot as plt\n",
    "import seaborn as sns\n",
    "import numpy as np\n",
    "import itertools"
   ]
  },
  {
   "attachments": {},
   "cell_type": "markdown",
   "metadata": {},
   "source": [
    "### classification : consommation du carburant"
   ]
  },
  {
   "cell_type": "code",
   "execution_count": 2,
   "metadata": {},
   "outputs": [],
   "source": [
    "# Load the data\n",
    "data = pd.read_csv('aircraft_emissions_data.csv')"
   ]
  },
  {
   "cell_type": "code",
   "execution_count": 3,
   "metadata": {},
   "outputs": [
    {
     "data": {
      "text/plain": [
       "1.5702666175415056"
      ]
     },
     "execution_count": 3,
     "metadata": {},
     "output_type": "execute_result"
    }
   ],
   "source": [
    "data['emission_co'][0]"
   ]
  },
  {
   "cell_type": "code",
   "execution_count": 4,
   "metadata": {},
   "outputs": [
    {
     "name": "stdout",
     "output_type": "stream",
     "text": [
      "type_avion\n",
      "A319    [2.9450579130014267, 3.029988661575008, 1.9444...\n",
      "A320    [1.881857195195895, 1.3340523595203888, 2.4354...\n",
      "A321    [1.8376035138946405, 1.897523956522868, 2.2634...\n",
      "B737                                 [1.6802895343904465]\n",
      "B738    [1.5702666175415056, 1.8338542053455087, 1.397...\n",
      "E190             [2.4558444152711845, 2.0998635403156927]\n",
      "Name: emission_co, dtype: object\n",
      "    Unnamed: 0 type_avion  emission_co2  emission_h2o  emission_sox  \\\n",
      "0            0       B738   2093.434017    817.695726      0.558426   \n",
      "1            4       A319   4510.624666   1761.850854      1.203215   \n",
      "2            5       A320   1726.433725    674.345342      0.460529   \n",
      "3            7       A321   2347.101740    916.778387      0.626093   \n",
      "4            8       A321   2671.502760   1043.489487      0.712627   \n",
      "5            9       A321   3004.017174   1173.369681      0.801326   \n",
      "6           10       A319   2720.294433   1062.547524      0.725642   \n",
      "7           14       A321   2920.104774   1140.593481      0.778942   \n",
      "8           21       A320   4289.154117   1675.344415      1.144138   \n",
      "9           22       A320   2743.239449   1071.509852      0.731763   \n",
      "10          23       A320   2047.282542    799.668951      0.546115   \n",
      "11          24       A320   2072.833835    809.649291      0.552931   \n",
      "12          25       A320   2336.922410    912.802339      0.623377   \n",
      "13          29       A319   3446.959882   1346.383187      0.919481   \n",
      "14          31       A319   2359.783591    921.731920      0.629475   \n",
      "15          33       A319   2651.444927   1035.654894      0.707277   \n",
      "16          34       A319   2820.125409   1101.541522      0.752272   \n",
      "17          35       A320   2242.167059    875.790880      0.598101   \n",
      "18          36       A320   2101.580549    820.877763      0.560599   \n",
      "19          37       A319   2702.665964   1055.661840      0.720940   \n",
      "20          38       A319   2032.569621    793.922081      0.542191   \n",
      "21          39       E190   1895.744993    740.478356      0.505693   \n",
      "22          40       B737   2418.629545    944.717161      0.645173   \n",
      "23          41       E190   1799.366985    702.833087      0.479984   \n",
      "24          43       B738   2062.606007    805.654299      0.550203   \n",
      "25          44       B738   3399.391098   1327.802811      0.906792   \n",
      "26          45       B738   3216.945053   1256.539351      0.858124   \n",
      "27          46       B738   3782.428794   1477.417408      1.008968   \n",
      "\n",
      "    emission_nox  emission_co  emission_hc  cluster  \n",
      "0       8.020637     1.570267     0.122098        1  \n",
      "1      27.323452     2.945058     0.155610        0  \n",
      "2       5.647612     1.881857     0.113343        2  \n",
      "3       9.816522     1.837604     0.171764        1  \n",
      "4      15.113738     1.897524     0.193689        1  \n",
      "5      19.062692     2.263478     0.248574        1  \n",
      "6      12.446146     3.029989     0.120858        0  \n",
      "7      17.722233     2.225482     0.241990        1  \n",
      "8      28.270824     1.334052     0.215972        2  \n",
      "9      15.416551     2.435403     0.245449        2  \n",
      "10      8.386201     2.842296     0.263549        2  \n",
      "11      8.924008     3.693024     0.382790        2  \n",
      "12     11.428231     2.778342     0.270270        2  \n",
      "13     18.072721     1.944463     0.057940        0  \n",
      "14      9.425577     2.948986     0.102369        0  \n",
      "15     11.709336     2.793489     0.099825        0  \n",
      "16     13.300185     3.119341     0.129995        0  \n",
      "17     11.074861     3.521085     0.368631        2  \n",
      "18      9.214847     2.934858     0.281827        2  \n",
      "19     11.935308     2.857703     0.106737        0  \n",
      "20      6.373391     2.461421     0.049495        0  \n",
      "21      6.906859     2.455844     0.119380        1  \n",
      "22     11.222522     1.680290     0.151176        1  \n",
      "23      6.168810     2.099864     0.067187        1  \n",
      "24      7.888901     1.833854     0.152506        1  \n",
      "25     21.993794     1.397620     0.175120        1  \n",
      "26     19.786361     1.386647     0.163908        1  \n",
      "27     26.323484     1.693665     0.225568        1  \n"
     ]
    },
    {
     "name": "stderr",
     "output_type": "stream",
     "text": [
      "c:\\Users\\chell\\AppData\\Local\\Programs\\Python\\Python39\\lib\\site-packages\\sklearn\\cluster\\_kmeans.py:870: FutureWarning: The default value of `n_init` will change from 10 to 'auto' in 1.4. Set the value of `n_init` explicitly to suppress the warning\n",
      "  warnings.warn(\n"
     ]
    }
   ],
   "source": [
    "# Group the data by aircraft type and aggregate the CO2 emissions as a list\n",
    "\n",
    "grouped = data.groupby('type_avion')['emission_co'].apply(list)\n",
    "print(grouped)\n",
    "\n",
    "max_len = max([len(x) for x in grouped])\n",
    "# Create a list of arrays of CO2 emissions, with padding to the maximum length\n",
    "co2_list = [np.pad(np.array(x), (0, max_len - len(x)), 'constant', constant_values=np.mean(x)) for x in grouped]\n",
    "\n",
    "# Convert the list of arrays to a numpy array\n",
    "co2_array = np.vstack(co2_list)\n",
    "\n",
    "# Convert the aggregated CO2 emissions to a numpy array\n",
    "#co2_array = np.array(grouped.tolist())\n",
    "\n",
    "# Normalize the data\n",
    "normalized = (co2_array - co2_array.mean()) / co2_array.std()\n",
    "\n",
    "# Set the number of clusters\n",
    "k = 3\n",
    "\n",
    "# Fit the K-Means clustering model\n",
    "model = KMeans(n_clusters=k)\n",
    "model.fit(normalized)\n",
    "\n",
    "# Get the predicted clusters for each aircraft type\n",
    "clusters = model.predict(normalized)\n",
    "\n",
    "# Add the cluster assignments to the original dataframe\n",
    "data['cluster'] = data['type_avion'].apply(lambda x: clusters[grouped.index.get_loc(x)])\n",
    "\n",
    "# Print the results\n",
    "print(data)"
   ]
  },
  {
   "cell_type": "code",
   "execution_count": 6,
   "metadata": {},
   "outputs": [
    {
     "data": {
      "image/png": "[encoded data removed]",
      "text/plain": [
       "<Figure size 640x480 with 1 Axes>"
      ]
     },
     "metadata": {},
     "output_type": "display_data"
    }
   ],
   "source": [
    "# Define a list of colors for each cluster\n",
    "colors = ['b','g','r']\n",
    "label = [\"moyenne\",\"faible\",\"élevée\"]\n",
    "list = []\n",
    "\n",
    "for i, row in data.iterrows():\n",
    "    label_i = label[data['cluster'][i]]\n",
    "    if list.__contains__(label_i) : \n",
    "        plt.scatter(row['type_avion'], row['emission_co'], c = colors[data['cluster'][i]])\n",
    "    else :\n",
    "        list.append(label_i)\n",
    "        plt.scatter(row['type_avion'], row['emission_co'], c = colors[data['cluster'][i]], label = label[data['cluster'][i]])\n",
    "\n",
    "plt.xlabel('type avion')\n",
    "plt.ylabel('emission_co')\n",
    "plt.title(\"Emission du CO par type d'avion\")\n",
    "plt.legend()\n",
    "plt.show()"
   ]
  }
 ],
 "metadata": {
  "kernelspec": {
   "display_name": "Python 3",
   "language": "python",
   "name": "python3"
  },
  "language_info": {
   "codemirror_mode": {
    "name": "ipython",
    "version": 3
   },
   "file_extension": ".py",
   "mimetype": "text/x-python",
   "name": "python",
   "nbconvert_exporter": "python",
   "pygments_lexer": "ipython3",
   "version": "3.9.10"
  },
  "orig_nbformat": 4,
  "vscode": {
   "interpreter": {
    "hash": "34b2230efae7f2b41b4c1583cfa04c0db4eac67689768e4ce16ef87f3c26544f"
   }
  }
 },
 "nbformat": 4,
 "nbformat_minor": 2
}
